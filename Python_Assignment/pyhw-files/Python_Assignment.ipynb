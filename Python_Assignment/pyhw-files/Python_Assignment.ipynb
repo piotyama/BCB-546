{
 "cells": [
  {
   "cell_type": "code",
   "execution_count": 209,
   "metadata": {
    "collapsed": false
   },
   "outputs": [],
   "source": [
    "# Make sure to install or update biopython\n",
    "# Import the required functions to complete some of the suggested tasks.\n",
    "from Bio import SeqIO\n",
    "from Bio.Data import CodonTable\n",
    "from Bio.Seq import Seq\n",
    "from Bio.Alphabet import IUPAC\n",
    "import pandas as pd\n",
    "from ggplot import *\n",
    "%matplotlib inline "
   ]
  },
  {
   "cell_type": "code",
   "execution_count": 210,
   "metadata": {
    "collapsed": true
   },
   "outputs": [],
   "source": [
    "## 1 ##\n",
    "## This function gets sequences from fasta a file\n",
    "## please finish documenting this function with comments, or in notebook markdown text\n",
    "## be sure to provide details on return types and arguments\n",
    "def get_sequences_from_file(fasta_fn):                             #function takes a fasta file as input\n",
    "    sequence_data_dict = {}                                        #Define an empty variable\n",
    "    for record in SeqIO.parse(fasta_fn, \"fasta\"):                  #For every fasta sequence, use built in biopython function\n",
    "        description = record.description.split()                   #split the output of this built in function and store in the define variable\n",
    "        species_name = description[1] + \" \" + description[2]       #define a variable and store in the name, space and then sequences\n",
    "        sequence_data_dict[species_name] = record.seq              #Append the empty variable with the sequences from previous step\n",
    "    return(sequence_data_dict)                                     #Return a dictionary with species as key and sequences\n"
   ]
  },
  {
   "cell_type": "code",
   "execution_count": 211,
   "metadata": {
    "collapsed": false
   },
   "outputs": [],
   "source": [
    "## 2##\n",
    "## This function translates a string of nucleotides to amino acids\n",
    "def translate_function(string_nucleotides):                                          #Function takes a string of nucleotides\n",
    "    mito_table = CodonTable.unambiguous_dna_by_name[\"Vertebrate Mitochondrial\"]      #Built in function returns a table of codons and it's corresponding amino acid IUPAC code\n",
    "    codons = [string_nucleotides[i:i+3] for i in range(0,len(string_nucleotides),3)] # This loops through every 3rd position in string_nucleotides to get codons.\n",
    "    #mito_table.forward_table[codons] # This retrieves the amino acid sequences      # will exit if stop codon is reached else appends the empty variable defined\n",
    "    aa_seq_string = []\n",
    "    for codon in codons:\n",
    "        aa = mito_table.forward_table.get(codon,\"stop\")\n",
    "        if aa == \"stop\":\n",
    "            break\n",
    "        else:\n",
    "            aa_seq_string.append[aa]\n",
    "        \n",
    "  \n",
    "    return (''.join(aa_seq_string))                                                  #Returns amino acid translations\n"
   ]
  },
  {
   "cell_type": "code",
   "execution_count": 212,
   "metadata": {
    "collapsed": false
   },
   "outputs": [],
   "source": [
    "## 3 ##\n",
    "#from Bio.Seq import Seq\n",
    "#from Bio.Alphabet import IUPAC\n",
    "#Use available biopython libraries for this task. The built in function for this is translate() from Seq function in Bio.Seq\n",
    "#source: http://biopython.org/DIST/docs/tutorial/Tutorial.html#htoc25\n",
    "\n",
    "def translate_easy(string_nucleotide):                                    #Function takes a string of nucleotides\n",
    "    aa = Seq.translate(string_nucleotide,table=2,to_stop=True)            #Returns translated amino acids using IUPAC codes\n",
    "    return aa\n",
    "\n"
   ]
  },
  {
   "cell_type": "code",
   "execution_count": 213,
   "metadata": {
    "collapsed": false
   },
   "outputs": [],
   "source": [
    "## 4 ## Count aa\n",
    "#This functions counts the number of amino acids present with respect to charge, polarity nd hydrophobicity\n",
    "def get_proportion_aa_type_function(aa_seq):          #Function takes a biopython seq\n",
    "    charged = ['R','K','D','E']                       #Variables define what charged, polar and hydrophobic aa are\n",
    "    polar = ['Q','N','H','S','T','Y','C','M','W']\n",
    "    hydrophobic = ['A','I','L','F','V','P','G']\n",
    "    charged_count = count_aa_seq(aa_seq , charged)          #count the number of times that aa appears, add to the total for charged\n",
    "    polar_count = count_aa_seq(aa_seq , polar)                 #repeat for polar and \n",
    "    hydrophobic_count = count_aa_seq(aa_seq , hydrophobic)     #repeat for hydrophobic\n",
    "    seq_len = len( aa_seq)                                     #find the length of each aa sequence\n",
    "    return {\"p_ratio\": float(polar_count)/seq_len,             #Returns a dictionary with proportions of each aa type\n",
    "            \"c_ratio\": float(charged_count)/seq_len,\n",
    "            \"h_ratio\": float(hydrophobic_count)/seq_len}   \n",
    "\n",
    "def count_aa_seq(aa_seq , to_count):                 #efine a function that takes out put from the previous function\n",
    "    counter = 0                                                        \n",
    "    for i in to_count:                                #Loop through all the three categories and add to counter\n",
    "        counter += aa_seq.count(i)\n",
    "    \n",
    "    return counter                                    #Returns the count of charged, polar and hydrophobic aa"
   ]
  },
  {
   "cell_type": "code",
   "execution_count": 214,
   "metadata": {
    "collapsed": true
   },
   "outputs": [],
   "source": [
    "##MAIN###\n",
    "cytb_seqs = get_sequences_from_file(\"bears_cytb.fasta\")\n",
    "\n",
    "bear_df = pd.read_csv(\"bears_data.csv\") #Includes only data for body mass currently and empty cells for other columns\n",
    "species_list = list(bear_df.species)    "
   ]
  },
  {
   "cell_type": "code",
   "execution_count": 215,
   "metadata": {
    "collapsed": false
   },
   "outputs": [
    {
     "name": "stdout",
     "output_type": "stream",
     "text": [
      "                  species     mass   charged     polar  hydrophobic\n",
      "0          Ursus spelaeus  550.800  0.092348  0.327177     0.580475\n",
      "1            Ursus arctos  203.500  0.089710  0.335092     0.575198\n",
      "2        Ursus thibetanus   99.714  0.092348  0.329815     0.577836\n",
      "3        Melursus ursinus  100.030  0.089710  0.340369     0.569921\n",
      "4        Ursus americanus  110.560  0.092348  0.324538     0.583113\n",
      "5     Helarctos malayanus   47.020  0.089710  0.343008     0.567282\n",
      "6  Ailuropoda melanoleuca  118.200  0.092348  0.327177     0.580475\n",
      "7      Tremarctos ornatus  140.700  0.092348  0.340369     0.567282\n",
      "8         Ursus maritimus  425.100  0.089710  0.337731     0.572559\n"
     ]
    }
   ],
   "source": [
    "## 5 ##\n",
    "## Write a for-loop that translates each sequence and also gets the proportion\n",
    "## of each aa type in that translated sequence and adds those data to dataframe\n",
    "# get proportions of each aa type\n",
    "#set the value of each proportion in the dataframe (i.e., fill in empty cells in DF)\n",
    "to_count = 0\n",
    "counter = 0\n",
    "for key, value in cytb_seqs.items():                      #sets the respective values for every speices in bear_df\n",
    "    aa_seq = translate_easy(value)                        #Translate the fasta sequences for each species into amino acids\n",
    "    count_aa = get_proportion_aa_type_function(aa_seq)    #Count the number of amino acids for each type\n",
    "    \n",
    "#set the value of each proportion in the dataframe (i.e., fill in empty cells in DF)\n",
    "    bear_df.set_value(counter,\"charged\",(count_aa[\"c_ratio\"]))           #charged amino acid\n",
    "    bear_df.set_value(counter,\"polar\",(count_aa[\"p_ratio\"]))             #Polar amino acid\n",
    "    bear_df.set_value(counter,\"hydrophobic\",(count_aa[\"h_ratio\"]))       #Hydrophobic amino acid\n",
    "    counter =counter+1\n",
    "    \n",
    "print(bear_df)          #Isn't this great, we finally got it!\n",
    "    \n"
   ]
  },
  {
   "cell_type": "code",
   "execution_count": 216,
   "metadata": {
    "collapsed": false
   },
   "outputs": [],
   "source": [
    "## 6 ##\n",
    "## What is the largest bear species? What else is interesting about this species? \n",
    "\n",
    "##Ursus spelaeus, is the largest species. It is believed to have spent more of its time in caves \n",
    "    #than Brown bears because most of the fossils were found in caves hence the name spelaeus, common name cave bear.\n"
   ]
  },
  {
   "cell_type": "code",
   "execution_count": 217,
   "metadata": {
    "collapsed": false,
    "scrolled": true
   },
   "outputs": [
    {
     "data": {
      "image/png": "[encoded data removed]",
      "text/plain": [
       "<matplotlib.figure.Figure at 0x12c6a710>"
      ]
     },
     "metadata": {},
     "output_type": "display_data"
    },
    {
     "data": {
      "text/plain": [
       "<ggplot: (19888420)>"
      ]
     },
     "execution_count": 217,
     "metadata": {},
     "output_type": "execute_result"
    }
   ],
   "source": [
    "## Plot a bar-chart of the mass with the x-axes labeled with species names.\n",
    "ggplot( aesthetics= aes(x = 'species', y = 'mass', fill='species'), data = bear_df)+\\\n",
    "geom_bar(stat='identity') "
   ]
  },
  {
   "cell_type": "code",
   "execution_count": 218,
   "metadata": {
    "collapsed": false
   },
   "outputs": [
    {
     "data": {
      "image/png": "[encoded data removed]",
      "text/plain": [
       "<matplotlib.figure.Figure at 0x131bd198>"
      ]
     },
     "metadata": {},
     "output_type": "display_data"
    },
    {
     "data": {
      "text/plain": [
       "<ggplot: (18024771)>"
      ]
     },
     "execution_count": 218,
     "metadata": {},
     "output_type": "execute_result"
    }
   ],
   "source": [
    "## 7 ##\n",
    "## Plot a visualization of the proportions for amino-acid type for the bear species\n",
    "## What does this show about cytochrome-b for the bears? \n",
    "    #This shows that cytochrome-b is well conserved across these ancient species.\n",
    "subset_df= bear_df[['species', 'charged' , 'polar', 'hydrophobic']]                                    #subset the data\n",
    "melt_bears=pd.melt(subset_df, id_vars='species')                                                       #Melt subset data\n",
    "ggplot(aes(x='species', weight=\"value\", fill='variable'), data=melt_bears) + geom_bar(position='stack')"
   ]
  },
  {
   "cell_type": "code",
   "execution_count": 219,
   "metadata": {
    "collapsed": false
   },
   "outputs": [],
   "source": [
    "## 8 ##\n",
    "## Save the new dataframe to a file called \"bears_mass_cytb.csv\"\n",
    "bear_df.to_csv('Results/complete_bears_data.csv')        #writes complete file as a csv"
   ]
  },
  {
   "cell_type": "code",
   "execution_count": 220,
   "metadata": {
    "collapsed": false
   },
   "outputs": [],
   "source": [
    "## BONUS ##\n",
    "## What else can we do with this dataset in Python? \n",
    "## Add functions or anything that might be interesting and fun. (optional)"
   ]
  },
  {
   "cell_type": "code",
   "execution_count": null,
   "metadata": {
    "collapsed": false
   },
   "outputs": [],
   "source": []
  },
  {
   "cell_type": "code",
   "execution_count": null,
   "metadata": {
    "collapsed": false
   },
   "outputs": [],
   "source": []
  },
  {
   "cell_type": "code",
   "execution_count": null,
   "metadata": {
    "collapsed": false
   },
   "outputs": [],
   "source": []
  },
  {
   "cell_type": "code",
   "execution_count": null,
   "metadata": {
    "collapsed": false
   },
   "outputs": [],
   "source": []
  },
  {
   "cell_type": "code",
   "execution_count": null,
   "metadata": {
    "collapsed": true
   },
   "outputs": [],
   "source": [
    " "
   ]
  },
  {
   "cell_type": "code",
   "execution_count": null,
   "metadata": {
    "collapsed": false
   },
   "outputs": [],
   "source": []
  },
  {
   "cell_type": "code",
   "execution_count": null,
   "metadata": {
    "collapsed": false
   },
   "outputs": [],
   "source": []
  },
  {
   "cell_type": "code",
   "execution_count": null,
   "metadata": {
    "collapsed": false
   },
   "outputs": [],
   "source": []
  },
  {
   "cell_type": "code",
   "execution_count": null,
   "metadata": {
    "collapsed": true
   },
   "outputs": [],
   "source": []
  },
  {
   "cell_type": "code",
   "execution_count": null,
   "metadata": {
    "collapsed": false
   },
   "outputs": [],
   "source": []
  },
  {
   "cell_type": "code",
   "execution_count": null,
   "metadata": {
    "collapsed": true
   },
   "outputs": [],
   "source": []
  },
  {
   "cell_type": "code",
   "execution_count": null,
   "metadata": {
    "collapsed": false,
    "scrolled": true
   },
   "outputs": [],
   "source": []
  },
  {
   "cell_type": "code",
   "execution_count": null,
   "metadata": {
    "collapsed": false
   },
   "outputs": [],
   "source": []
  },
  {
   "cell_type": "code",
   "execution_count": null,
   "metadata": {
    "collapsed": false
   },
   "outputs": [],
   "source": []
  },
  {
   "cell_type": "code",
   "execution_count": null,
   "metadata": {
    "collapsed": false
   },
   "outputs": [],
   "source": []
  },
  {
   "cell_type": "code",
   "execution_count": null,
   "metadata": {
    "collapsed": false
   },
   "outputs": [],
   "source": []
  },
  {
   "cell_type": "code",
   "execution_count": null,
   "metadata": {
    "collapsed": false
   },
   "outputs": [],
   "source": []
  },
  {
   "cell_type": "code",
   "execution_count": null,
   "metadata": {
    "collapsed": false
   },
   "outputs": [],
   "source": []
  },
  {
   "cell_type": "code",
   "execution_count": null,
   "metadata": {
    "collapsed": false
   },
   "outputs": [],
   "source": []
  },
  {
   "cell_type": "code",
   "execution_count": null,
   "metadata": {
    "collapsed": false
   },
   "outputs": [],
   "source": []
  },
  {
   "cell_type": "code",
   "execution_count": null,
   "metadata": {
    "collapsed": false
   },
   "outputs": [],
   "source": []
  },
  {
   "cell_type": "code",
   "execution_count": null,
   "metadata": {
    "collapsed": false
   },
   "outputs": [],
   "source": []
  },
  {
   "cell_type": "code",
   "execution_count": null,
   "metadata": {
    "collapsed": false
   },
   "outputs": [],
   "source": [
    " "
   ]
  },
  {
   "cell_type": "code",
   "execution_count": null,
   "metadata": {
    "collapsed": false
   },
   "outputs": [],
   "source": []
  },
  {
   "cell_type": "code",
   "execution_count": null,
   "metadata": {
    "collapsed": false
   },
   "outputs": [],
   "source": []
  },
  {
   "cell_type": "code",
   "execution_count": null,
   "metadata": {
    "collapsed": true
   },
   "outputs": [],
   "source": []
  }
 ],
 "metadata": {
  "kernelspec": {
   "display_name": "Python 2",
   "language": "python",
   "name": "python2"
  },
  "language_info": {
   "codemirror_mode": {
    "name": "ipython",
    "version": 2
   },
   "file_extension": ".py",
   "mimetype": "text/x-python",
   "name": "python",
   "nbconvert_exporter": "python",
   "pygments_lexer": "ipython2",
   "version": "2.7.13"
  }
 },
 "nbformat": 4,
 "nbformat_minor": 2
}
